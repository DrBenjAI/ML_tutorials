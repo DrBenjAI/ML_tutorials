{
  "nbformat": 4,
  "nbformat_minor": 0,
  "metadata": {
    "colab": {
      "name": "Neural network basic training",
      "provenance": [],
      "collapsed_sections": [],
      "include_colab_link": true
    },
    "kernelspec": {
      "name": "python3",
      "display_name": "Python 3"
    },
    "accelerator": "GPU"
  },
  "cells": [
    {
      "cell_type": "markdown",
      "metadata": {
        "id": "view-in-github",
        "colab_type": "text"
      },
      "source": [
        "<a href=\"https://colab.research.google.com/github/DrBenjAI/ML_tutorials/blob/master/Neural_network_basic_training.ipynb\" target=\"_parent\"><img src=\"https://colab.research.google.com/assets/colab-badge.svg\" alt=\"Open In Colab\"/></a>"
      ]
    },
    {
      "cell_type": "markdown",
      "metadata": {
        "id": "OXQWtmQE8tjW",
        "colab_type": "text"
      },
      "source": [
        "# Training a neural network\n",
        "Let us train a neural network with Google Colab.\n",
        "This notebook is inspired from [this Google Colab example](https://colab.research.google.com/github/tensorflow/hub/blob/master/examples/colab/tf2_image_retraining.ipynb#scrollTo=jvztxQ6VsK2k)"
      ]
    },
    {
      "cell_type": "markdown",
      "metadata": {
        "id": "f4rNnwrO85bn",
        "colab_type": "text"
      },
      "source": [
        "Initialization, importation of the tools for machine learning"
      ]
    },
    {
      "cell_type": "code",
      "metadata": {
        "id": "5txVpfAraK1O",
        "colab_type": "code",
        "colab": {}
      },
      "source": [
        "import matplotlib.pylab as plt\n",
        "import numpy as np\n",
        "\n",
        "import tensorflow as tf\n",
        "\n",
        "from tensorflow.keras import layers\n",
        "\n",
        "print(\"TF version:\", tf.__version__)\n",
        "print(\"GPU is\", \"available\" if tf.config.list_physical_devices('GPU') else \"NOT AVAILABLE\")"
      ],
      "execution_count": null,
      "outputs": []
    },
    {
      "cell_type": "markdown",
      "metadata": {
        "id": "NYXB0Gi1JUmW",
        "colab_type": "text"
      },
      "source": [
        "Downloading the data: photos of flowers"
      ]
    },
    {
      "cell_type": "code",
      "metadata": {
        "id": "YgDI8S5maWAY",
        "colab_type": "code",
        "colab": {}
      },
      "source": [
        "data_dir = tf.keras.utils.get_file(\n",
        "    'flower_photos',\n",
        "    'https://storage.googleapis.com/download.tensorflow.org/example_images/flower_photos.tgz',\n",
        "    untar=True)"
      ],
      "execution_count": null,
      "outputs": []
    },
    {
      "cell_type": "code",
      "metadata": {
        "id": "Jh0z6_gedrP9",
        "colab_type": "code",
        "colab": {
          "base_uri": "https://localhost:8080/",
          "height": 90
        },
        "outputId": "90b3ea54-db8a-40dc-b24a-08e80313a09c"
      },
      "source": [
        "# Creating the training and validation sets\n",
        "dataflow_kwargs = dict(interpolation=\"bilinear\",  validation_split=.20, seed=123)\n",
        "\n",
        "valid_ds = tf.keras.preprocessing.image_dataset_from_directory(\n",
        "    data_dir, subset=\"validation\", shuffle=True, **dataflow_kwargs)\n",
        "\n",
        "train_ds = tf.keras.preprocessing.image_dataset_from_directory(\n",
        "    data_dir, subset=\"training\", shuffle=True, **dataflow_kwargs)"
      ],
      "execution_count": 3,
      "outputs": [
        {
          "output_type": "stream",
          "text": [
            "Found 3670 files belonging to 5 classes.\n",
            "Using 734 files for validation.\n",
            "Found 3670 files belonging to 5 classes.\n",
            "Using 2936 files for training.\n"
          ],
          "name": "stdout"
        }
      ]
    },
    {
      "cell_type": "markdown",
      "metadata": {
        "id": "2jvIGZ179f21",
        "colab_type": "text"
      },
      "source": [
        "Let us see what is in the dataset"
      ]
    },
    {
      "cell_type": "code",
      "metadata": {
        "id": "qNlClvirTV-7",
        "colab_type": "code",
        "colab": {}
      },
      "source": [
        "class_names = train_ds.class_names\n",
        "print('Data classes:',class_names)\n",
        "\n",
        "plt.figure(figsize=(10, 10))\n",
        "for images, labels in train_ds.take(1):\n",
        "  for i in range(9):\n",
        "    ax = plt.subplot(3, 3, i + 1)\n",
        "    plt.imshow(images[i].numpy().astype(\"uint8\"))\n",
        "    plt.title(class_names[labels[i]])\n",
        "    plt.axis(\"off\")\n"
      ],
      "execution_count": null,
      "outputs": []
    },
    {
      "cell_type": "markdown",
      "metadata": {
        "id": "vAxnJXJU9xb9",
        "colab_type": "text"
      },
      "source": [
        "## Creation of the neural network\n",
        "* Structure in layers\n",
        "\n",
        "![Neural network general structure](https://raw.githubusercontent.com/DrBenjAI/ML_tutorials/master/images/NN1.png)\n",
        "\n"
      ]
    },
    {
      "cell_type": "code",
      "metadata": {
        "id": "bbspLYmzWf2e",
        "colab_type": "code",
        "colab": {}
      },
      "source": [
        "num_classes = 5\n",
        "\n",
        "model = tf.keras.Sequential([\n",
        "  layers.experimental.preprocessing.Rescaling(1./255),\n",
        "\n",
        "  layers.Conv2D(32, 3, activation='relu'),\n",
        "  layers.MaxPooling2D(),\n",
        "\n",
        "  layers.Conv2D(32, 3, activation='relu'),\n",
        "  layers.MaxPooling2D(),\n",
        "\n",
        "  layers.Conv2D(32, 3, activation='relu'),\n",
        "  layers.MaxPooling2D(),\n",
        "\n",
        "  layers.Flatten(),\n",
        "\n",
        "  layers.Dense(128, activation='relu'),\n",
        "  \n",
        "  layers.Dense(num_classes)\n",
        "])"
      ],
      "execution_count": 5,
      "outputs": []
    },
    {
      "cell_type": "code",
      "metadata": {
        "id": "hd_5qNKoWf7Y",
        "colab_type": "code",
        "colab": {}
      },
      "source": [
        "model.compile(\n",
        "  optimizer='adam',\n",
        "  loss=tf.losses.SparseCategoricalCrossentropy(from_logits=True),\n",
        "  metrics=['accuracy'])"
      ],
      "execution_count": 6,
      "outputs": []
    },
    {
      "cell_type": "code",
      "metadata": {
        "id": "7GHgeUaVavoQ",
        "colab_type": "code",
        "colab": {}
      },
      "source": [
        "hist = model.fit(train_ds, validation_data=valid_ds, epochs=4).history "
      ],
      "execution_count": null,
      "outputs": []
    },
    {
      "cell_type": "code",
      "metadata": {
        "id": "dsFrRnvzayCd",
        "colab_type": "code",
        "colab": {}
      },
      "source": [
        "plt.figure()\n",
        "plt.ylabel(\"Accuracy (training and validation)\")\n",
        "plt.xlabel(\"Training Steps\")\n",
        "plt.ylim([0,1])\n",
        "plt.plot(hist[\"accuracy\"],label='Train set')\n",
        "plt.plot(hist[\"val_accuracy\"], label='Validation set')\n",
        "plt.legend()"
      ],
      "execution_count": null,
      "outputs": []
    },
    {
      "cell_type": "code",
      "metadata": {
        "id": "f8GidHcbXp5t",
        "colab_type": "code",
        "colab": {}
      },
      "source": [
        "plt.figure(figsize=(20, 15))\n",
        "for images, labels in valid_ds.take(1):\n",
        "  predictions = model.predict(images)\n",
        "  for i in range(30):\n",
        "    ax = plt.subplot(5, 6, i + 1)\n",
        "    plt.imshow(images[i].numpy().astype(\"uint8\"))\n",
        "    pred_i = class_names[np.argmax(predictions[i])]\n",
        "    color = \"green\" if pred_i == class_names[labels[i]] else \"red\"\n",
        "    plt.title(class_names[labels[i]]+' Classified: '+pred_i, color=color)\n",
        "    #plt.title(class_names[np.argmax(pred[i])])\n",
        "    plt.axis(\"off\")"
      ],
      "execution_count": null,
      "outputs": []
    },
    {
      "cell_type": "code",
      "metadata": {
        "id": "1I7R8C5wyop5",
        "colab_type": "code",
        "colab": {}
      },
      "source": [
        ""
      ],
      "execution_count": null,
      "outputs": []
    }
  ]
}